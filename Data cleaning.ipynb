{
 "cells": [
  {
   "cell_type": "code",
   "execution_count": 36,
   "id": "demographic-advertiser",
   "metadata": {},
   "outputs": [],
   "source": [
    "import pandas as pd\n",
    "import numpy as np\n",
    "import matplotlib.pyplot as plt\n",
    "import seaborn as sns\n",
    "plt.rcParams.update({'figure.figsize':(11,7), 'figure.dpi':100})\n"
   ]
  },
  {
   "cell_type": "code",
   "execution_count": 37,
   "id": "selected-dining",
   "metadata": {},
   "outputs": [
    {
     "name": "stderr",
     "output_type": "stream",
     "text": [
      "C:\\Users\\Admin\\anaconda3\\lib\\site-packages\\IPython\\core\\interactiveshell.py:3155: DtypeWarning: Columns (4,5) have mixed types.Specify dtype option on import or set low_memory=False.\n",
      "  has_raised = await self.run_ast_nodes(code_ast.body, cell_name,\n"
     ]
    }
   ],
   "source": [
    "df = pd.read_csv('integratedData.csv')"
   ]
  },
  {
   "cell_type": "code",
   "execution_count": 38,
   "id": "sticky-softball",
   "metadata": {},
   "outputs": [
    {
     "data": {
      "text/html": [
       "<div>\n",
       "<style scoped>\n",
       "    .dataframe tbody tr th:only-of-type {\n",
       "        vertical-align: middle;\n",
       "    }\n",
       "\n",
       "    .dataframe tbody tr th {\n",
       "        vertical-align: top;\n",
       "    }\n",
       "\n",
       "    .dataframe thead th {\n",
       "        text-align: right;\n",
       "    }\n",
       "</style>\n",
       "<table border=\"1\" class=\"dataframe\">\n",
       "  <thead>\n",
       "    <tr style=\"text-align: right;\">\n",
       "      <th></th>\n",
       "      <th>tconst</th>\n",
       "      <th>titleType</th>\n",
       "      <th>primaryTitle</th>\n",
       "      <th>originalTitle</th>\n",
       "      <th>isAdult</th>\n",
       "      <th>startYear</th>\n",
       "      <th>endYear</th>\n",
       "      <th>runtimeMinutes</th>\n",
       "      <th>genres</th>\n",
       "      <th>directors</th>\n",
       "      <th>writers</th>\n",
       "    </tr>\n",
       "  </thead>\n",
       "  <tbody>\n",
       "    <tr>\n",
       "      <th>0</th>\n",
       "      <td>tt0000001</td>\n",
       "      <td>short</td>\n",
       "      <td>Carmencita</td>\n",
       "      <td>Carmencita</td>\n",
       "      <td>0</td>\n",
       "      <td>1894</td>\n",
       "      <td>\\N</td>\n",
       "      <td>1</td>\n",
       "      <td>Documentary,Short</td>\n",
       "      <td>nm0005690</td>\n",
       "      <td>\\N</td>\n",
       "    </tr>\n",
       "    <tr>\n",
       "      <th>1</th>\n",
       "      <td>tt0000002</td>\n",
       "      <td>short</td>\n",
       "      <td>Le clown et ses chiens</td>\n",
       "      <td>Le clown et ses chiens</td>\n",
       "      <td>0</td>\n",
       "      <td>1892</td>\n",
       "      <td>\\N</td>\n",
       "      <td>5</td>\n",
       "      <td>Animation,Short</td>\n",
       "      <td>nm0721526</td>\n",
       "      <td>\\N</td>\n",
       "    </tr>\n",
       "    <tr>\n",
       "      <th>2</th>\n",
       "      <td>tt0000003</td>\n",
       "      <td>short</td>\n",
       "      <td>Pauvre Pierrot</td>\n",
       "      <td>Pauvre Pierrot</td>\n",
       "      <td>0</td>\n",
       "      <td>1892</td>\n",
       "      <td>\\N</td>\n",
       "      <td>4</td>\n",
       "      <td>Animation,Comedy,Romance</td>\n",
       "      <td>nm0721526</td>\n",
       "      <td>\\N</td>\n",
       "    </tr>\n",
       "    <tr>\n",
       "      <th>3</th>\n",
       "      <td>tt0000004</td>\n",
       "      <td>short</td>\n",
       "      <td>Un bon bock</td>\n",
       "      <td>Un bon bock</td>\n",
       "      <td>0</td>\n",
       "      <td>1892</td>\n",
       "      <td>\\N</td>\n",
       "      <td>12</td>\n",
       "      <td>Animation,Short</td>\n",
       "      <td>nm0721526</td>\n",
       "      <td>\\N</td>\n",
       "    </tr>\n",
       "    <tr>\n",
       "      <th>4</th>\n",
       "      <td>tt0000005</td>\n",
       "      <td>short</td>\n",
       "      <td>Blacksmith Scene</td>\n",
       "      <td>Blacksmith Scene</td>\n",
       "      <td>0</td>\n",
       "      <td>1893</td>\n",
       "      <td>\\N</td>\n",
       "      <td>1</td>\n",
       "      <td>Comedy,Short</td>\n",
       "      <td>nm0005690</td>\n",
       "      <td>\\N</td>\n",
       "    </tr>\n",
       "  </tbody>\n",
       "</table>\n",
       "</div>"
      ],
      "text/plain": [
       "      tconst titleType            primaryTitle           originalTitle  \\\n",
       "0  tt0000001     short              Carmencita              Carmencita   \n",
       "1  tt0000002     short  Le clown et ses chiens  Le clown et ses chiens   \n",
       "2  tt0000003     short          Pauvre Pierrot          Pauvre Pierrot   \n",
       "3  tt0000004     short             Un bon bock             Un bon bock   \n",
       "4  tt0000005     short        Blacksmith Scene        Blacksmith Scene   \n",
       "\n",
       "  isAdult startYear endYear runtimeMinutes                    genres  \\\n",
       "0       0      1894      \\N              1         Documentary,Short   \n",
       "1       0      1892      \\N              5           Animation,Short   \n",
       "2       0      1892      \\N              4  Animation,Comedy,Romance   \n",
       "3       0      1892      \\N             12           Animation,Short   \n",
       "4       0      1893      \\N              1              Comedy,Short   \n",
       "\n",
       "   directors writers  \n",
       "0  nm0005690      \\N  \n",
       "1  nm0721526      \\N  \n",
       "2  nm0721526      \\N  \n",
       "3  nm0721526      \\N  \n",
       "4  nm0005690      \\N  "
      ]
     },
     "execution_count": 38,
     "metadata": {},
     "output_type": "execute_result"
    }
   ],
   "source": [
    "df.head()"
   ]
  },
  {
   "cell_type": "code",
   "execution_count": 39,
   "id": "hungry-canal",
   "metadata": {},
   "outputs": [
    {
     "data": {
      "text/plain": [
       "tconst                  0\n",
       "titleType               0\n",
       "primaryTitle            0\n",
       "originalTitle           0\n",
       "isAdult                 1\n",
       "startYear         1200932\n",
       "endYear           8949472\n",
       "runtimeMinutes    6608533\n",
       "genres             411434\n",
       "directors         3863571\n",
       "writers           4393667\n",
       "dtype: int64"
      ]
     },
     "execution_count": 39,
     "metadata": {},
     "output_type": "execute_result"
    }
   ],
   "source": [
    "(df == '\\\\N').sum()"
   ]
  },
  {
   "cell_type": "code",
   "execution_count": 40,
   "id": "weekly-unknown",
   "metadata": {},
   "outputs": [],
   "source": [
    "# Drop endYear column\n",
    "df.drop(\"endYear\", axis=1, inplace=True)"
   ]
  },
  {
   "cell_type": "code",
   "execution_count": 41,
   "id": "toxic-mapping",
   "metadata": {},
   "outputs": [],
   "source": [
    "# Drop endYear column\n",
    "df.drop(\"runtimeMinutes\", axis=1, inplace=True)"
   ]
  },
  {
   "cell_type": "code",
   "execution_count": 42,
   "id": "pediatric-joshua",
   "metadata": {},
   "outputs": [],
   "source": [
    "# Drop missing rows of director column\n",
    "df = df[df['directors'] != '\\\\N']"
   ]
  },
  {
   "cell_type": "code",
   "execution_count": 43,
   "id": "occupied-poland",
   "metadata": {},
   "outputs": [
    {
     "name": "stdout",
     "output_type": "stream",
     "text": [
      "Total rows:  5179085\n",
      "tconst                 0\n",
      "titleType              0\n",
      "primaryTitle           0\n",
      "originalTitle          0\n",
      "isAdult                0\n",
      "startYear         688130\n",
      "genres            208046\n",
      "directors              0\n",
      "writers          1194623\n",
      "dtype: int64\n"
     ]
    }
   ],
   "source": [
    "print(\"Total rows: \", len(df))\n",
    "print((df == '\\\\N').sum())"
   ]
  },
  {
   "cell_type": "code",
   "execution_count": 44,
   "id": "inclusive-board",
   "metadata": {},
   "outputs": [
    {
     "data": {
      "text/plain": [
       "2003"
      ]
     },
     "execution_count": 44,
     "metadata": {},
     "output_type": "execute_result"
    }
   ],
   "source": [
    "# Get mean year\n",
    "int(df['startYear'][df['startYear'] != '\\\\N'].astype(int).mean())"
   ]
  },
  {
   "cell_type": "code",
   "execution_count": 45,
   "id": "complex-quantum",
   "metadata": {},
   "outputs": [],
   "source": [
    "# Replace null with mean year\n",
    "df['startYear'][df['startYear'] == '\\\\N'] = 2003"
   ]
  },
  {
   "cell_type": "code",
   "execution_count": 46,
   "id": "acting-charge",
   "metadata": {},
   "outputs": [
    {
     "data": {
      "text/plain": [
       "Drama                        805591\n",
       "Comedy                       420550\n",
       "Drama,Romance                289559\n",
       "Documentary                  246112\n",
       "\\N                           208046\n",
       "                              ...  \n",
       "Crime,Film-Noir,Sport             1\n",
       "Family,Game-Show,Musical          1\n",
       "Animation,Sport,Thriller          1\n",
       "Documentary,Mystery,Sport         1\n",
       "Comedy,Fantasy,Western            1\n",
       "Name: genres, Length: 2253, dtype: int64"
      ]
     },
     "execution_count": 46,
     "metadata": {},
     "output_type": "execute_result"
    }
   ],
   "source": [
    "df['genres'].value_counts()"
   ]
  },
  {
   "cell_type": "code",
   "execution_count": 47,
   "id": "massive-instruction",
   "metadata": {},
   "outputs": [],
   "source": [
    "# Replace missing values as Drama genre\n",
    "df['genres'][df['genres'] == \"\\\\N\"] = 'Drama'"
   ]
  },
  {
   "cell_type": "code",
   "execution_count": 48,
   "id": "brazilian-assurance",
   "metadata": {},
   "outputs": [
    {
     "data": {
      "text/plain": [
       "tconst           0\n",
       "titleType        0\n",
       "primaryTitle     0\n",
       "originalTitle    0\n",
       "isAdult          0\n",
       "startYear        0\n",
       "genres           4\n",
       "directors        0\n",
       "writers          0\n",
       "dtype: int64"
      ]
     },
     "execution_count": 48,
     "metadata": {},
     "output_type": "execute_result"
    }
   ],
   "source": [
    "# Double check NaN value\n",
    "df.isnull().sum()"
   ]
  },
  {
   "cell_type": "code",
   "execution_count": 49,
   "id": "horizontal-painting",
   "metadata": {},
   "outputs": [],
   "source": [
    "df['genres'][df['genres'].isnull()] = 'Drama'"
   ]
  },
  {
   "cell_type": "markdown",
   "id": "needed-finger",
   "metadata": {},
   "source": [
    "# Remove unesscessary data"
   ]
  },
  {
   "cell_type": "code",
   "execution_count": 50,
   "id": "patient-kuwait",
   "metadata": {},
   "outputs": [
    {
     "data": {
      "text/plain": [
       "\\N                                                             1194623\n",
       "nm6352729                                                        12267\n",
       "nm1271987,nm1667629,nm4390665,nm3089072,nm1956179,nm1335533       9764\n",
       "nm1203430                                                         9569\n",
       "nm7370686                                                         7623\n",
       "                                                                ...   \n",
       "nm6051371,nm5713563                                                  1\n",
       "nm1703707,nm1706570,nm1514345,nm1318349                              1\n",
       "nm3771227,nm0170030,nm2017988,nm1943306,nm1240647                    1\n",
       "nm0903275                                                            1\n",
       "nm0302175,nm0302143                                                  1\n",
       "Name: writers, Length: 1127905, dtype: int64"
      ]
     },
     "execution_count": 50,
     "metadata": {},
     "output_type": "execute_result"
    }
   ],
   "source": [
    "df['writers'].value_counts()"
   ]
  },
  {
   "cell_type": "code",
   "execution_count": 51,
   "id": "composite-guyana",
   "metadata": {},
   "outputs": [],
   "source": [
    "# Drop writers column\n",
    "df.drop(\"writers\", axis=1, inplace=True)"
   ]
  },
  {
   "cell_type": "code",
   "execution_count": 52,
   "id": "improved-renewal",
   "metadata": {},
   "outputs": [
    {
     "data": {
      "text/html": [
       "<div>\n",
       "<style scoped>\n",
       "    .dataframe tbody tr th:only-of-type {\n",
       "        vertical-align: middle;\n",
       "    }\n",
       "\n",
       "    .dataframe tbody tr th {\n",
       "        vertical-align: top;\n",
       "    }\n",
       "\n",
       "    .dataframe thead th {\n",
       "        text-align: right;\n",
       "    }\n",
       "</style>\n",
       "<table border=\"1\" class=\"dataframe\">\n",
       "  <thead>\n",
       "    <tr style=\"text-align: right;\">\n",
       "      <th></th>\n",
       "      <th>tconst</th>\n",
       "      <th>titleType</th>\n",
       "      <th>primaryTitle</th>\n",
       "      <th>originalTitle</th>\n",
       "      <th>isAdult</th>\n",
       "      <th>startYear</th>\n",
       "      <th>genres</th>\n",
       "      <th>directors</th>\n",
       "    </tr>\n",
       "  </thead>\n",
       "  <tbody>\n",
       "    <tr>\n",
       "      <th>3152</th>\n",
       "      <td>tt0003181</td>\n",
       "      <td>short</td>\n",
       "      <td>Mutt and Jeff</td>\n",
       "      <td>Mutt and Jeff</td>\n",
       "      <td>0</td>\n",
       "      <td>1913</td>\n",
       "      <td>Animation,Short</td>\n",
       "      <td>nm0279404</td>\n",
       "    </tr>\n",
       "    <tr>\n",
       "      <th>3153</th>\n",
       "      <td>tt0003182</td>\n",
       "      <td>short</td>\n",
       "      <td>Mutt and Jeff</td>\n",
       "      <td>Mutt and Jeff</td>\n",
       "      <td>0</td>\n",
       "      <td>1913</td>\n",
       "      <td>Animation,Short</td>\n",
       "      <td>nm0279404</td>\n",
       "    </tr>\n",
       "    <tr>\n",
       "      <th>3154</th>\n",
       "      <td>tt0003183</td>\n",
       "      <td>short</td>\n",
       "      <td>Mutt and Jeff</td>\n",
       "      <td>Mutt and Jeff</td>\n",
       "      <td>0</td>\n",
       "      <td>1913</td>\n",
       "      <td>Animation,Short</td>\n",
       "      <td>nm0279404</td>\n",
       "    </tr>\n",
       "    <tr>\n",
       "      <th>3155</th>\n",
       "      <td>tt0003184</td>\n",
       "      <td>short</td>\n",
       "      <td>Mutt and Jeff</td>\n",
       "      <td>Mutt and Jeff</td>\n",
       "      <td>0</td>\n",
       "      <td>1913</td>\n",
       "      <td>Animation,Short</td>\n",
       "      <td>nm0279404</td>\n",
       "    </tr>\n",
       "    <tr>\n",
       "      <th>3156</th>\n",
       "      <td>tt0003185</td>\n",
       "      <td>short</td>\n",
       "      <td>Mutt and Jeff</td>\n",
       "      <td>Mutt and Jeff</td>\n",
       "      <td>0</td>\n",
       "      <td>1913</td>\n",
       "      <td>Animation,Short</td>\n",
       "      <td>nm0279404</td>\n",
       "    </tr>\n",
       "    <tr>\n",
       "      <th>...</th>\n",
       "      <td>...</td>\n",
       "      <td>...</td>\n",
       "      <td>...</td>\n",
       "      <td>...</td>\n",
       "      <td>...</td>\n",
       "      <td>...</td>\n",
       "      <td>...</td>\n",
       "      <td>...</td>\n",
       "    </tr>\n",
       "    <tr>\n",
       "      <th>9040878</th>\n",
       "      <td>tt9912984</td>\n",
       "      <td>tvEpisode</td>\n",
       "      <td>Episode #1.57</td>\n",
       "      <td>Episode #1.57</td>\n",
       "      <td>0</td>\n",
       "      <td>2005</td>\n",
       "      <td>Drama</td>\n",
       "      <td>nm0062879</td>\n",
       "    </tr>\n",
       "    <tr>\n",
       "      <th>9040879</th>\n",
       "      <td>tt9912986</td>\n",
       "      <td>tvEpisode</td>\n",
       "      <td>Episode #1.59</td>\n",
       "      <td>Episode #1.59</td>\n",
       "      <td>0</td>\n",
       "      <td>2005</td>\n",
       "      <td>Drama</td>\n",
       "      <td>nm0062879</td>\n",
       "    </tr>\n",
       "    <tr>\n",
       "      <th>9040880</th>\n",
       "      <td>tt9912988</td>\n",
       "      <td>tvEpisode</td>\n",
       "      <td>Episode #1.58</td>\n",
       "      <td>Episode #1.58</td>\n",
       "      <td>0</td>\n",
       "      <td>2005</td>\n",
       "      <td>Drama</td>\n",
       "      <td>nm0062879</td>\n",
       "    </tr>\n",
       "    <tr>\n",
       "      <th>9040881</th>\n",
       "      <td>tt9912990</td>\n",
       "      <td>tvEpisode</td>\n",
       "      <td>Episode #1.60</td>\n",
       "      <td>Episode #1.60</td>\n",
       "      <td>0</td>\n",
       "      <td>2005</td>\n",
       "      <td>Drama</td>\n",
       "      <td>nm0062879</td>\n",
       "    </tr>\n",
       "    <tr>\n",
       "      <th>9041436</th>\n",
       "      <td>tt9914172</td>\n",
       "      <td>short</td>\n",
       "      <td>Déconnexion</td>\n",
       "      <td>Déconnexion</td>\n",
       "      <td>0</td>\n",
       "      <td>2018</td>\n",
       "      <td>Drama,Short</td>\n",
       "      <td>nm10536721</td>\n",
       "    </tr>\n",
       "  </tbody>\n",
       "</table>\n",
       "<p>41633 rows × 8 columns</p>\n",
       "</div>"
      ],
      "text/plain": [
       "            tconst  titleType   primaryTitle  originalTitle isAdult startYear  \\\n",
       "3152     tt0003181      short  Mutt and Jeff  Mutt and Jeff       0      1913   \n",
       "3153     tt0003182      short  Mutt and Jeff  Mutt and Jeff       0      1913   \n",
       "3154     tt0003183      short  Mutt and Jeff  Mutt and Jeff       0      1913   \n",
       "3155     tt0003184      short  Mutt and Jeff  Mutt and Jeff       0      1913   \n",
       "3156     tt0003185      short  Mutt and Jeff  Mutt and Jeff       0      1913   \n",
       "...            ...        ...            ...            ...     ...       ...   \n",
       "9040878  tt9912984  tvEpisode  Episode #1.57  Episode #1.57       0      2005   \n",
       "9040879  tt9912986  tvEpisode  Episode #1.59  Episode #1.59       0      2005   \n",
       "9040880  tt9912988  tvEpisode  Episode #1.58  Episode #1.58       0      2005   \n",
       "9040881  tt9912990  tvEpisode  Episode #1.60  Episode #1.60       0      2005   \n",
       "9041436  tt9914172      short    Déconnexion    Déconnexion       0      2018   \n",
       "\n",
       "                  genres   directors  \n",
       "3152     Animation,Short   nm0279404  \n",
       "3153     Animation,Short   nm0279404  \n",
       "3154     Animation,Short   nm0279404  \n",
       "3155     Animation,Short   nm0279404  \n",
       "3156     Animation,Short   nm0279404  \n",
       "...                  ...         ...  \n",
       "9040878            Drama   nm0062879  \n",
       "9040879            Drama   nm0062879  \n",
       "9040880            Drama   nm0062879  \n",
       "9040881            Drama   nm0062879  \n",
       "9041436      Drama,Short  nm10536721  \n",
       "\n",
       "[41633 rows x 8 columns]"
      ]
     },
     "execution_count": 52,
     "metadata": {},
     "output_type": "execute_result"
    }
   ],
   "source": [
    "# Check and drop duplicated row after removing unique column\n",
    "df[df.drop('tconst', axis=1).duplicated()]"
   ]
  },
  {
   "cell_type": "code",
   "execution_count": 53,
   "id": "final-customer",
   "metadata": {},
   "outputs": [],
   "source": [
    "df = df.loc[~df.drop('tconst', axis=1).duplicated()]"
   ]
  },
  {
   "cell_type": "code",
   "execution_count": 54,
   "id": "harmful-armor",
   "metadata": {},
   "outputs": [],
   "source": [
    "# Drop primaryTitle column\n",
    "df.drop(\"primaryTitle\", axis=1, inplace=True)\n",
    "# Drop originalTitle column\n",
    "df.drop(\"originalTitle\", axis=1, inplace=True)"
   ]
  },
  {
   "cell_type": "code",
   "execution_count": 55,
   "id": "ready-helicopter",
   "metadata": {},
   "outputs": [
    {
     "data": {
      "text/plain": [
       "(5137452, 6)"
      ]
     },
     "execution_count": 55,
     "metadata": {},
     "output_type": "execute_result"
    }
   ],
   "source": [
    "df.shape"
   ]
  },
  {
   "cell_type": "code",
   "execution_count": 56,
   "id": "adjacent-payment",
   "metadata": {
    "scrolled": true
   },
   "outputs": [
    {
     "data": {
      "text/html": [
       "<div>\n",
       "<style scoped>\n",
       "    .dataframe tbody tr th:only-of-type {\n",
       "        vertical-align: middle;\n",
       "    }\n",
       "\n",
       "    .dataframe tbody tr th {\n",
       "        vertical-align: top;\n",
       "    }\n",
       "\n",
       "    .dataframe thead th {\n",
       "        text-align: right;\n",
       "    }\n",
       "</style>\n",
       "<table border=\"1\" class=\"dataframe\">\n",
       "  <thead>\n",
       "    <tr style=\"text-align: right;\">\n",
       "      <th></th>\n",
       "      <th>tconst</th>\n",
       "      <th>titleType</th>\n",
       "      <th>isAdult</th>\n",
       "      <th>startYear</th>\n",
       "      <th>genres</th>\n",
       "      <th>directors</th>\n",
       "    </tr>\n",
       "  </thead>\n",
       "  <tbody>\n",
       "    <tr>\n",
       "      <th>0</th>\n",
       "      <td>tt0000001</td>\n",
       "      <td>short</td>\n",
       "      <td>0</td>\n",
       "      <td>1894</td>\n",
       "      <td>Documentary,Short</td>\n",
       "      <td>nm0005690</td>\n",
       "    </tr>\n",
       "    <tr>\n",
       "      <th>1</th>\n",
       "      <td>tt0000002</td>\n",
       "      <td>short</td>\n",
       "      <td>0</td>\n",
       "      <td>1892</td>\n",
       "      <td>Animation,Short</td>\n",
       "      <td>nm0721526</td>\n",
       "    </tr>\n",
       "    <tr>\n",
       "      <th>2</th>\n",
       "      <td>tt0000003</td>\n",
       "      <td>short</td>\n",
       "      <td>0</td>\n",
       "      <td>1892</td>\n",
       "      <td>Animation,Comedy,Romance</td>\n",
       "      <td>nm0721526</td>\n",
       "    </tr>\n",
       "    <tr>\n",
       "      <th>3</th>\n",
       "      <td>tt0000004</td>\n",
       "      <td>short</td>\n",
       "      <td>0</td>\n",
       "      <td>1892</td>\n",
       "      <td>Animation,Short</td>\n",
       "      <td>nm0721526</td>\n",
       "    </tr>\n",
       "    <tr>\n",
       "      <th>4</th>\n",
       "      <td>tt0000005</td>\n",
       "      <td>short</td>\n",
       "      <td>0</td>\n",
       "      <td>1893</td>\n",
       "      <td>Comedy,Short</td>\n",
       "      <td>nm0005690</td>\n",
       "    </tr>\n",
       "  </tbody>\n",
       "</table>\n",
       "</div>"
      ],
      "text/plain": [
       "      tconst titleType isAdult startYear                    genres  directors\n",
       "0  tt0000001     short       0      1894         Documentary,Short  nm0005690\n",
       "1  tt0000002     short       0      1892           Animation,Short  nm0721526\n",
       "2  tt0000003     short       0      1892  Animation,Comedy,Romance  nm0721526\n",
       "3  tt0000004     short       0      1892           Animation,Short  nm0721526\n",
       "4  tt0000005     short       0      1893              Comedy,Short  nm0005690"
      ]
     },
     "execution_count": 56,
     "metadata": {},
     "output_type": "execute_result"
    }
   ],
   "source": [
    "df.head()"
   ]
  },
  {
   "cell_type": "markdown",
   "id": "compound-richards",
   "metadata": {},
   "source": [
    "# OUTLINER"
   ]
  },
  {
   "cell_type": "code",
   "execution_count": 57,
   "id": "presidential-championship",
   "metadata": {},
   "outputs": [
    {
     "data": {
      "text/plain": [
       "count    5.137452e+06\n",
       "mean     2.003309e+03\n",
       "std      1.937188e+01\n",
       "min      1.874000e+03\n",
       "25%      2.001000e+03\n",
       "50%      2.009000e+03\n",
       "75%      2.016000e+03\n",
       "max      2.029000e+03\n",
       "Name: startYear, dtype: float64"
      ]
     },
     "execution_count": 57,
     "metadata": {},
     "output_type": "execute_result"
    }
   ],
   "source": [
    "# Convert startYear data to interger type\n",
    "df['startYear'] = df['startYear'].astype(int) \n",
    "# Check for startYear\n",
    "df['startYear'].describe()"
   ]
  },
  {
   "cell_type": "code",
   "execution_count": 58,
   "id": "acceptable-digit",
   "metadata": {},
   "outputs": [
    {
     "data": {
      "text/plain": [
       "(array([6.600000e+01, 3.846000e+03, 5.057600e+04, 4.310400e+04,\n",
       "        4.287300e+04, 1.547210e+05, 3.230700e+05, 4.637250e+05,\n",
       "        2.260872e+06, 1.794599e+06]),\n",
       " array([1874. , 1889.5, 1905. , 1920.5, 1936. , 1951.5, 1967. , 1982.5,\n",
       "        1998. , 2013.5, 2029. ]),\n",
       " <BarContainer object of 10 artists>)"
      ]
     },
     "execution_count": 58,
     "metadata": {},
     "output_type": "execute_result"
    },
    {
     "data": {
      "image/png": "[encoded data removed]",
      "text/plain": [
       "<Figure size 1100x700 with 1 Axes>"
      ]
     },
     "metadata": {
      "needs_background": "light"
     },
     "output_type": "display_data"
    }
   ],
   "source": [
    "plt.hist(df['startYear'])"
   ]
  },
  {
   "cell_type": "code",
   "execution_count": 59,
   "id": "innocent-twelve",
   "metadata": {},
   "outputs": [
    {
     "data": {
      "text/plain": [
       "1874    1\n",
       "1885    1\n",
       "1883    1\n",
       "2029    1\n",
       "Name: startYear, dtype: int64"
      ]
     },
     "execution_count": 59,
     "metadata": {},
     "output_type": "execute_result"
    }
   ],
   "source": [
    "df['startYear'].value_counts()[df['startYear'].value_counts() == 1]"
   ]
  },
  {
   "cell_type": "code",
   "execution_count": 60,
   "id": "spiritual-tourism",
   "metadata": {},
   "outputs": [],
   "source": [
    "# Remove the outliner year\n",
    "df = df.loc[(df['startYear'] != 2029) &\n",
    "        (df['startYear'] != 1885) &\n",
    "   (df['startYear'] != 1874) &\n",
    "   (df['startYear'] != 1883)]"
   ]
  },
  {
   "cell_type": "code",
   "execution_count": 61,
   "id": "false-capability",
   "metadata": {
    "scrolled": false
   },
   "outputs": [
    {
     "data": {
      "text/plain": [
       "Drama                           989265\n",
       "Comedy                          417907\n",
       "Drama,Romance                   287211\n",
       "Documentary                     245772\n",
       "Drama,Short                     161249\n",
       "                                 ...  \n",
       "Talk-Show,War                        1\n",
       "Adventure,Biography,Thriller         1\n",
       "Animation,Crime,Music                1\n",
       "Family,Reality-TV,Romance            1\n",
       "Mystery,News,Sci-Fi                  1\n",
       "Name: genres, Length: 2252, dtype: int64"
      ]
     },
     "execution_count": 61,
     "metadata": {},
     "output_type": "execute_result"
    }
   ],
   "source": [
    "df['genres'].value_counts()"
   ]
  },
  {
   "cell_type": "code",
   "execution_count": 62,
   "id": "basic-mainland",
   "metadata": {
    "scrolled": false
   },
   "outputs": [
    {
     "data": {
      "text/plain": [
       "nm1203430              10563\n",
       "nm1409127              10354\n",
       "nm13220986              8024\n",
       "nm0022750               6326\n",
       "nm0565214               5964\n",
       "                       ...  \n",
       "nm4602011                  1\n",
       "nm5623611                  1\n",
       "nm6596135,nm6596134        1\n",
       "nm5148858                  1\n",
       "nm0302175,nm0302143        1\n",
       "Name: directors, Length: 865039, dtype: int64"
      ]
     },
     "execution_count": 62,
     "metadata": {},
     "output_type": "execute_result"
    }
   ],
   "source": [
    "df['directors'].value_counts()"
   ]
  },
  {
   "cell_type": "markdown",
   "id": "closed-paris",
   "metadata": {},
   "source": [
    "#  Error data"
   ]
  },
  {
   "cell_type": "code",
   "execution_count": 63,
   "id": "joint-gnome",
   "metadata": {
    "scrolled": true
   },
   "outputs": [
    {
     "data": {
      "text/plain": [
       "<AxesSubplot:xlabel='isAdult', ylabel='count'>"
      ]
     },
     "execution_count": 63,
     "metadata": {},
     "output_type": "execute_result"
    },
    {
     "data": {
      "image/png": "[encoded data removed]",
      "text/plain": [
       "<Figure size 1100x700 with 1 Axes>"
      ]
     },
     "metadata": {
      "needs_background": "light"
     },
     "output_type": "display_data"
    }
   ],
   "source": [
    "sns.countplot(x=df['isAdult'])"
   ]
  },
  {
   "cell_type": "code",
   "execution_count": 64,
   "id": "alike-preserve",
   "metadata": {
    "scrolled": false
   },
   "outputs": [],
   "source": [
    "# Convert '0' string into 0 interger\n",
    "df.loc[df['isAdult'] == '0', 'isAdult'] = \\\n",
    "df.loc[df['isAdult'] == '0', 'isAdult'].astype(int)"
   ]
  },
  {
   "cell_type": "code",
   "execution_count": 65,
   "id": "light-class",
   "metadata": {},
   "outputs": [],
   "source": [
    "# Convert '1' string into 1 interger\n",
    "df.loc[df['isAdult'] == '1', 'isAdult'] = \\\n",
    "df.loc[df['isAdult'] == '1', 'isAdult'].astype(int)"
   ]
  },
  {
   "cell_type": "code",
   "execution_count": 66,
   "id": "middle-coordination",
   "metadata": {},
   "outputs": [],
   "source": [
    "df = df.loc[df['isAdult'] != 2020]"
   ]
  },
  {
   "cell_type": "code",
   "execution_count": 67,
   "id": "concrete-ferry",
   "metadata": {},
   "outputs": [],
   "source": [
    "df = df.loc[df['isAdult'] != 2014]"
   ]
  },
  {
   "cell_type": "code",
   "execution_count": 68,
   "id": "macro-growing",
   "metadata": {},
   "outputs": [],
   "source": [
    "df = df.loc[df['isAdult'] != 2019]"
   ]
  },
  {
   "cell_type": "code",
   "execution_count": 69,
   "id": "powered-express",
   "metadata": {},
   "outputs": [
    {
     "data": {
      "text/plain": [
       "<AxesSubplot:xlabel='isAdult', ylabel='count'>"
      ]
     },
     "execution_count": 69,
     "metadata": {},
     "output_type": "execute_result"
    },
    {
     "data": {
      "image/png": "[encoded data removed]",
      "text/plain": [
       "<Figure size 1100x700 with 1 Axes>"
      ]
     },
     "metadata": {
      "needs_background": "light"
     },
     "output_type": "display_data"
    }
   ],
   "source": [
    "sns.countplot(x=df['isAdult'])"
   ]
  },
  {
   "cell_type": "code",
   "execution_count": 70,
   "id": "tutorial-prayer",
   "metadata": {},
   "outputs": [],
   "source": [
    "# Only movie type data is taken\n",
    "df = df.loc[df['titleType'] == 'movie']"
   ]
  },
  {
   "cell_type": "code",
   "execution_count": 72,
   "id": "numeric-venezuela",
   "metadata": {},
   "outputs": [],
   "source": [
    "# Drop titletype column \n",
    "df.drop(\"titleType\", axis=1, inplace=True)"
   ]
  },
  {
   "cell_type": "code",
   "execution_count": 37,
   "id": "heated-crown",
   "metadata": {},
   "outputs": [],
   "source": [
    "df.to_csv('cleanedData.csv', index=False)"
   ]
  },
  {
   "cell_type": "code",
   "execution_count": null,
   "id": "activated-apache",
   "metadata": {},
   "outputs": [],
   "source": []
  }
 ],
 "metadata": {
  "kernelspec": {
   "display_name": "Python 3",
   "language": "python",
   "name": "python3"
  },
  "language_info": {
   "codemirror_mode": {
    "name": "ipython",
    "version": 3
   },
   "file_extension": ".py",
   "mimetype": "text/x-python",
   "name": "python",
   "nbconvert_exporter": "python",
   "pygments_lexer": "ipython3",
   "version": "3.8.3"
  },
  "vscode": {
   "interpreter": {
    "hash": "2043299c89c8cd0b4d1a6f5cf4529bd58e6a4e0fe3181a25e0d328c821cdc5c5"
   }
  }
 },
 "nbformat": 4,
 "nbformat_minor": 5
}
